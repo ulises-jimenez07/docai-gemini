{
 "cells": [
  {
   "cell_type": "code",
   "execution_count": 1,
   "id": "6351524b-956c-4745-b651-3052f0181357",
   "metadata": {},
   "outputs": [],
   "source": [
    "from typing import Optional\n",
    "\n",
    "from google.api_core.client_options import ClientOptions\n",
    "from google.api_core.exceptions import InternalServerError\n",
    "from google.api_core.exceptions import RetryError\n",
    "from google.cloud import documentai\n",
    "from google.cloud import storage\n",
    "\n",
    "import re\n",
    "import uuid\n",
    "\n",
    "from extractor import BatchDocumentExtractor\n",
    "from extractor import OnlineDocumentExtractor\n",
    "\n",
    "from entity_processor import DocumentAIEntityExtractor, ModelBasedEntityExtractor\n",
    "\n",
    "from prompts_module import get_extract_entities_prompt,get_compare_entities_prompt\n",
    "from temp_file_uploader import TempFileUploader\n",
    "# Batch processing\n",
    "\n",
    "import vertexai\n",
    "from vertexai.generative_models import GenerativeModel"
   ]
  },
  {
   "cell_type": "code",
   "execution_count": 2,
   "id": "a392e37a-e731-44ce-b81c-0db71395636a",
   "metadata": {
    "tags": []
   },
   "outputs": [],
   "source": [
    "project_id = \"project-id\"\n",
    "location = \"us\"  # Or other supported locations like 'eu'\n",
    "processor_id = \"processor-id\"\n",
    "processor_version_id = \"processor-version-id\"  # Optional for batch processing\n",
    "# File to process\n",
    "file_path = \"test_file.pdf\"\n",
    "mime_type = \"application/pdf\"\n",
    "\n",
    "gcs_output_uri = \"gs://bucket-output\"  # GCS URI for output\n",
    "gcs_temp_uri = \"gs://bucket-temp\"  # GCS URI for output"
   ]
  },
  {
   "cell_type": "code",
   "execution_count": 3,
   "id": "3a2815a0-1f57-4ca1-9818-19fa3a384300",
   "metadata": {
    "tags": []
   },
   "outputs": [],
   "source": [
    "\n",
    "online_extractor = OnlineDocumentExtractor(\n",
    "    project_id=project_id,\n",
    "    location=location,\n",
    "    processor_id=processor_id,\n",
    "    # processor_version_id=processor_version_id\n",
    ")\n",
    "online_document = online_extractor.process_document(file_path, mime_type)\n",
    "\n",
    "docai_entity_extractor = DocumentAIEntityExtractor(online_document)\n",
    "docai_entities = docai_entity_extractor.extract_entities()"
   ]
  },
  {
   "cell_type": "code",
   "execution_count": 7,
   "id": "fd4b0dd2-325d-4a13-b741-b1063098c2f3",
   "metadata": {
    "tags": []
   },
   "outputs": [
    {
     "data": {
      "text/plain": [
       "{'employees_social_security_number': '399-60-1133',\n",
       " 'social_security_wages': '247797.13',\n",
       " 'control_number': '4568872',\n",
       " 'wages_tips_other_compensation': '210325.45',\n",
       " 'federal_income_tax_withheld': '62172.84',\n",
       " 'employer_identification_number': '27-5426623',\n",
       " 'employers_name_address_and_zip_code': 'Black LLC Ltd\\n513 Aaron Bypass Apt. 233\\nSherrystad\\nMD 02652-4962',\n",
       " 'social_security_tax_withheld': '18956.48'}"
      ]
     },
     "execution_count": 7,
     "metadata": {},
     "output_type": "execute_result"
    }
   ],
   "source": [
    "docai_entities"
   ]
  },
  {
   "cell_type": "code",
   "execution_count": 5,
   "id": "5768a5dc-0ebf-4891-992f-6fbdea315b97",
   "metadata": {
    "tags": []
   },
   "outputs": [],
   "source": [
    "temp_file_uploader= TempFileUploader(gcs_temp_uri)        \n",
    "gcs_input_uri = temp_file_uploader.upload_file(file_path)    \n",
    "\n",
    "prompt_extract=get_extract_entities_prompt()\n",
    "model_extractor = ModelBasedEntityExtractor(\"gemini-1.5-flash-001\", prompt_extract, gcs_input_uri)\n",
    "gemini_entities = model_extractor.extract_entities()\n",
    "\n",
    "temp_file_uploader.delete_file()"
   ]
  },
  {
   "cell_type": "code",
   "execution_count": 8,
   "id": "02e0a0d3-11da-4673-82dc-bed9efac27f8",
   "metadata": {
    "tags": []
   },
   "outputs": [
    {
     "name": "stdout",
     "output_type": "stream",
     "text": [
      "## DocAI vs. Gemini Output Analysis\n",
      "\n",
      "Here's a breakdown of the similarities and differences between the DocAI and Gemini outputs:\n",
      "\n",
      "**Similarities:**\n",
      "\n",
      "* **Entities with matching values:** \n",
      "    * `employees_social_security_number` (DocAI) / `Employee's Social Security Number` (Gemini): '399-60-1133'\n",
      "    * `employer_identification_number` (DocAI) / `Employer Identification Number (EIN)` (Gemini): '27-5426623'\n",
      "    * `control_number` (DocAI) / `Control Number` (Gemini): '4568872'\n",
      "    * `wages_tips_other_compensation` (DocAI) / `Wages, Tips, and Other Compensation (Box 1)` (Gemini): '210325.45'\n",
      "    * `federal_income_tax_withheld` (DocAI) / `Federal Income Tax Withheld (Box 2)` (Gemini): '62172.84'\n",
      "    * `social_security_wages` (DocAI) / `Social Security Wages (Box 3)` (Gemini): '247797.13'\n",
      "    * `social_security_tax_withheld` (DocAI) / `Social Security Tax Withheld (Box 4)` (Gemini): '18956.48'\n",
      "* **Similar data structure:** Both outputs are dictionaries with key-value pairs.\n",
      "\n",
      "\n",
      "**Differences:**\n",
      "\n",
      "**Entities present in Gemini but missing in DocAI:**\n",
      "\n",
      "* `Employee's Name`\n",
      "* `Employer's Name`\n",
      "* `Employer's Address`\n",
      "* `Medicare Wages and Tips (Box 5)`\n",
      "* `Medicare Tax Withheld (Box 6)`\n",
      "* `Social Security Tips (Box 7)`\n",
      "* `Allocated Tips (Box 8)`\n",
      "* `Dependent Care Benefits (Box 10)`\n",
      "* `Nonqualified Plan Contributions (Box 11)`\n",
      "* `State`\n",
      "* `Employer's State ID Number`\n",
      "* `State Wages, Tips, Etc.`\n",
      "* `State Income Tax Withheld`\n",
      "* `Local Wages, Tips, Etc.`\n",
      "* `Local Income Tax Withheld`\n",
      "* `Locality Name`\n",
      "\n",
      "**Entities present in both, but with different values:**\n",
      "\n",
      "*  `employers_name_address_and_zip_code` (DocAI) / `Employer's Address` (Gemini): \n",
      "    *  DocAI: 'Black LLC Ltd\\n513 Aaron Bypass Apt. 233\\nSherrystad\\nMD 02652-4962'\n",
      "    *  Gemini: '513 Aaron Bypass Apt. 233\\nSherrystad MD 02652-4962'\n",
      "\n",
      "**Summary:**\n",
      "\n",
      "Gemini provides more detailed information, including additional fields relevant to tax forms, such as Medicare information, state and local tax details, and employee details. DocAI focuses on core tax-related information and lacks the richer context provided by Gemini. The differing values in `employers_name_address_and_zip_code` (DocAI) and `Employer's Address` (Gemini) could be due to different parsing logic or the source document structure. \n",
      "\n"
     ]
    }
   ],
   "source": [
    "compare_prompt = get_compare_entities_prompt()\n",
    "compare_prompt = compare_prompt.format(docai_output=str(docai_entities), gemini_output=str(gemini_entities))\n",
    "                                                        \n",
    "model = GenerativeModel(\"gemini-1.5-flash-001\")                                                        \n",
    "docai_gemini_response_analysis = model.generate_content(compare_prompt)\n",
    "print(docai_gemini_response_analysis.text)"
   ]
  }
 ],
 "metadata": {
  "environment": {
   "kernel": "conda-base-py",
   "name": "workbench-notebooks.m123",
   "type": "gcloud",
   "uri": "us-docker.pkg.dev/deeplearning-platform-release/gcr.io/workbench-notebooks:m123"
  },
  "kernelspec": {
   "display_name": "Python 3 (ipykernel) (Local)",
   "language": "python",
   "name": "conda-base-py"
  },
  "language_info": {
   "codemirror_mode": {
    "name": "ipython",
    "version": 3
   },
   "file_extension": ".py",
   "mimetype": "text/x-python",
   "name": "python",
   "nbconvert_exporter": "python",
   "pygments_lexer": "ipython3",
   "version": "3.10.14"
  }
 },
 "nbformat": 4,
 "nbformat_minor": 5
}
