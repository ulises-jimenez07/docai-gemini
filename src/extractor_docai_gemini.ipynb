{
 "cells": [
  {
   "cell_type": "code",
   "execution_count": 20,
   "id": "3ef459ee-343a-4818-8221-2b30c9d5b8e2",
   "metadata": {
    "tags": []
   },
   "outputs": [],
   "source": [
    "from typing import Optional,Sequence\n",
    "\n",
    "from google.api_core.client_options import ClientOptions\n",
    "from google.api_core.exceptions import InternalServerError\n",
    "from google.api_core.exceptions import RetryError\n",
    "from google.cloud import documentai\n",
    "from google.cloud import storage\n",
    "\n",
    "\n",
    "import re\n",
    "import uuid"
   ]
  },
  {
   "cell_type": "code",
   "execution_count": 2,
   "id": "58826fa6-a71d-4142-b8c0-b2462d290b12",
   "metadata": {
    "tags": []
   },
   "outputs": [],
   "source": [
    "from extractor import OnlineDocumentExtractor"
   ]
  },
  {
   "cell_type": "code",
   "execution_count": 3,
   "id": "c1bdb636-8d48-4bf2-b11d-14009c7520a1",
   "metadata": {
    "tags": []
   },
   "outputs": [],
   "source": [
    "project_id = \"gsd-ai-mx-ulises\"\n",
    "location = \"us\"  # Or other supported locations like 'eu'\n",
    "processor_id = \"d2621db9b6cb255b\"\n",
    "processor_version_id = \"pretrained-foundation-model-v1.0-2023-08-22\"  # Optional for batch processing\n",
    "\n",
    "# File to process\n",
    "file_path = \"AutoLabel/W2_XL_input_clean_2895.pdf\"\n",
    "mime_type = \"application/pdf\""
   ]
  },
  {
   "cell_type": "code",
   "execution_count": null,
   "id": "502c6a5d-cf4f-46cf-9d30-8add1e325f64",
   "metadata": {
    "tags": []
   },
   "outputs": [],
   "source": [
    "# Online processing\n",
    "online_extractor = OnlineDocumentExtractor(\n",
    "    project_id=project_id,\n",
    "    location=location,\n",
    "    processor_id=processor_id,\n",
    "    processor_version_id=processor_version_id\n",
    ")\n",
    "online_document = online_extractor.process_document(file_path, mime_type)\n",
    "print(\"Online Processed Document:\", online_document.entities)"
   ]
  },
  {
   "cell_type": "code",
   "execution_count": 69,
   "id": "e8fbb5ea-ab49-470d-86ac-950a37f8c508",
   "metadata": {
    "tags": []
   },
   "outputs": [],
   "source": [
    "def print_page_dimensions(dimension: documentai.Document.Page.Dimension) -> None:\n",
    "    print(f\"    Width: {str(dimension.width)}\")\n",
    "    print(f\"    Height: {str(dimension.height)}\")\n",
    "\n",
    "def print_detected_languages(detected_languages: Sequence[documentai.Document.Page.DetectedLanguage]) -> None:\n",
    "    print(\"    Detected languages:\")\n",
    "    for lang in detected_languages:\n",
    "        print(f\"        {lang.language_code} ({lang.confidence:.1%} confidence)\")\n",
    "\n",
    "def print_image_quality_scores(image_quality_scores: documentai.Document.Page.ImageQualityScores) -> None:\n",
    "    print(f\"    Quality score: {image_quality_scores.quality_score:.1%}\")\n",
    "    print(\"    Detected defects:\")\n",
    "    for detected_defect in image_quality_scores.detected_defects:\n",
    "        print(f\"        {detected_defect.type_}: {detected_defect.confidence:.1%}\")\n",
    "\n",
    "def print_entity(entity: documentai.Document.Entity) -> None:\n",
    "    key = entity.type_\n",
    "    text_value = entity.text_anchor.content or entity.mention_text\n",
    "    confidence = entity.confidence\n",
    "    normalized_value = entity.normalized_value.text\n",
    "    print(f\"    * Entity: {repr(key)}\")\n",
    "    print(f\"    * Raw Value: {repr(text_value)} ({confidence:.1%} confidence)\")\n",
    "    if normalized_value:\n",
    "        print(f\"    * Normalized Value: {repr(normalized_value)}\\n\")"
   ]
  },
  {
   "cell_type": "code",
   "execution_count": 70,
   "id": "0ae6fec5-5007-4363-8e30-f6ea1aa7433a",
   "metadata": {
    "tags": []
   },
   "outputs": [
    {
     "name": "stdout",
     "output_type": "stream",
     "text": [
      "There are 1 page(s) in this document.\n",
      "\n",
      "Page 1:\n",
      "    Width: 1758.0\n",
      "    Height: 2275.0\n",
      "    Detected languages:\n",
      "        en (80.1% confidence)\n",
      "\n",
      "Found 16 entities:\n",
      "\n",
      "    * Entity: 'wages_tips_other_compensation'\n",
      "    * Raw Value: '210325.45' (100.0% confidence)\n",
      "    * Normalized Value: '210325.45'\n",
      "\n",
      "    * Entity: 'wages_tips_other_compensation'\n",
      "    * Raw Value: '210325.45' (100.0% confidence)\n",
      "    * Normalized Value: '210325.45'\n",
      "\n",
      "    * Entity: 'employees_social_security_number'\n",
      "    * Raw Value: '399-60-1133' (100.0% confidence)\n",
      "    * Entity: 'employees_social_security_number'\n",
      "    * Raw Value: '399-60-1133' (100.0% confidence)\n",
      "    * Entity: 'employer_identification_number'\n",
      "    * Raw Value: '27-5426623' (100.0% confidence)\n",
      "    * Entity: 'employer_identification_number'\n",
      "    * Raw Value: '27-5426623' (100.0% confidence)\n",
      "    * Entity: 'control_number'\n",
      "    * Raw Value: '4568872' (100.0% confidence)\n",
      "    * Normalized Value: '4568872'\n",
      "\n",
      "    * Entity: 'control_number'\n",
      "    * Raw Value: '4568872' (100.0% confidence)\n",
      "    * Normalized Value: '4568872'\n",
      "\n",
      "    * Entity: 'social_security_tax_withheld'\n",
      "    * Raw Value: '18956.48' (100.0% confidence)\n",
      "    * Normalized Value: '18956.48'\n",
      "\n",
      "    * Entity: 'social_security_tax_withheld'\n",
      "    * Raw Value: '18956.48' (100.0% confidence)\n",
      "    * Normalized Value: '18956.48'\n",
      "\n",
      "    * Entity: 'employers_name_address_and_zip_code'\n",
      "    * Raw Value: 'Black LLC Ltd 513 Aaron Bypass Apt. 233 Sherrystad\\nMD\\n02652-4962' (100.0% confidence)\n",
      "    * Entity: 'employers_name_address_and_zip_code'\n",
      "    * Raw Value: 'Black LLC Ltd\\n513 Aaron Bypass Apt. 233\\nSherrystad\\nMD 02652-4962' (100.0% confidence)\n",
      "    * Entity: 'social_security_wages'\n",
      "    * Raw Value: '247797.13' (100.0% confidence)\n",
      "    * Normalized Value: '247797.13'\n",
      "\n",
      "    * Entity: 'social_security_wages'\n",
      "    * Raw Value: '247797.13' (100.0% confidence)\n",
      "    * Normalized Value: '247797.13'\n",
      "\n",
      "    * Entity: 'federal_income_tax_withheld'\n",
      "    * Raw Value: '62172.84' (100.0% confidence)\n",
      "    * Normalized Value: '62172.84'\n",
      "\n",
      "    * Entity: 'federal_income_tax_withheld'\n",
      "    * Raw Value: '62172.84' (100.0% confidence)\n",
      "    * Normalized Value: '62172.84'\n",
      "\n"
     ]
    }
   ],
   "source": [
    "print(f\"There are {len(online_document.pages)} page(s) in this document.\\n\")\n",
    "\n",
    "if online_document.pages:\n",
    "    for page in online_document.pages:\n",
    "        print(f\"Page {page.page_number}:\")\n",
    "        print_page_dimensions(page.dimension)\n",
    "        print_detected_languages(page.detected_languages)\n",
    "        if page.image_quality_scores:\n",
    "                print_image_quality_scores(page.image_quality_scores)\n",
    "            \n",
    "if online_document.entities:\n",
    "    print(f\"\\nFound {len(online_document.entities)} entities:\\n\")\n",
    "    for entity in online_document.entities:\n",
    "        print_entity(entity)"
   ]
  },
  {
   "cell_type": "code",
   "execution_count": null,
   "id": "ddfa5d26-659f-4a9d-8c5a-2c97f55af8a3",
   "metadata": {},
   "outputs": [],
   "source": [
    "prompt = \"\"\"\n",
    "You are a very professional document summarization specialist.\n",
    "Please summarize the given document.\n",
    "\"\"\""
   ]
  },
  {
   "cell_type": "code",
   "execution_count": 65,
   "id": "68e7e233-fc1b-4348-9750-cb73453f846c",
   "metadata": {
    "tags": []
   },
   "outputs": [],
   "source": [
    "prompt = \"\"\"\n",
    "Task: Extract W-2 Tax Form Information\n",
    "\n",
    "Objective: \n",
    "Accurately identify and extract the following fields from the provided document, which is expected to be a W-2 tax form or a representation thereof:\n",
    "\n",
    "* Employee's Social Security Number\n",
    "* Employer Identification Number (EIN)\n",
    "* Employee's Name\n",
    "* Employer's Name\n",
    "* Employer's Address\n",
    "* Control Number (if present)\n",
    "* Wages, Tips, and Other Compensation (Box 1)\n",
    "* Federal Income Tax Withheld (Box 2)\n",
    "* Social Security Wages (Box 3)\n",
    "* Social Security Tax Withheld (Box 4)\n",
    "* Medicare Wages and Tips (Box 5)\n",
    "* Medicare Tax Withheld (Box 6)\n",
    "* Social Security Tips (Box 7)\n",
    "* Allocated Tips (Box 8)\n",
    "* Dependent Care Benefits (Box 10)\n",
    "* Nonqualified Plan Contributions (Box 11)\n",
    "* State and Local Information (Boxes 15-20):\n",
    "    * State\n",
    "    * Employer's State ID Number\n",
    "    * State Wages, Tips, Etc.\n",
    "    * State Income Tax Withheld\n",
    "    * Local Wages, Tips, Etc.\n",
    "    * Local Income Tax Withheld\n",
    "    * Locality Name\n",
    "\n",
    "Guidelines:\n",
    "\n",
    "* Prioritize accuracy. If a field cannot be confidently extracted, indicate it as \"Not Found\" or a similar placeholder.\n",
    "* Handle variations in document formatting and layout.\n",
    "* If the document contains multiple W-2 forms, extract information for each one separately.\n",
    "* Format the extracted data in a structured manner, such as a JSON object or a table, for easy further processing.\n",
    "\n",
    "Example Output (JSON):\n",
    "\n",
    "```\n",
    "{\n",
    "  \"Employee's Social Security Number\": \"***-**-****\",\n",
    "  \"Employer Identification Number (EIN)\": \"**-*******\",\n",
    "  \"Employee's Name\": \"John Doe\",\n",
    "  \"Employer's Name\": \"Acme Corporation\",\n",
    "  \"Employer's Address\": \"123 Main Street, Anytown, USA\",\n",
    "  \"Control Number\": \"12345\",\n",
    "  \"Wages, Tips, and Other Compensation (Box 1)\": \"50000.00\",\n",
    "  \"Federal Income Tax Withheld (Box 2)\": \"5000.00\",\n",
    "  \"Social Security Wages (Box 3)\": \"45000.00\",\n",
    "  \"Social Security Tax Withheld (Box 4)\": \"2800.00\",\n",
    "  \"Medicare Wages and Tips (Box 5)\": \"50000.00\",\n",
    "  \"Medicare Tax Withheld (Box 6)\": \"725.00\",\n",
    "  \"Social Security Tips (Box 7)\": \"0.00\",\n",
    "  \"Allocated Tips (Box 8)\": \"0.00\",\n",
    "  \"Dependent Care Benefits (Box 10)\": \"0.00\",\n",
    "  \"Nonqualified Plan Contributions (Box 11)\": \"0.00\",\n",
    "  \"State\": \"CA\",\n",
    "  \"Employer's State ID Number\": \"123456789\",\n",
    "  \"State Wages, Tips, Etc.\": \"50000.00\",\n",
    "  \"State Income Tax Withheld\": \"2000.00\",\n",
    "  \"Local Wages, Tips, Etc.\": \"0.00\",\n",
    "  \"Local Income Tax Withheld\": \"0.00\",\n",
    "  \"Locality Name\": \"\" \n",
    "}\n",
    "\"\"\""
   ]
  },
  {
   "cell_type": "code",
   "execution_count": 66,
   "id": "531729fd-3c5a-4900-8ced-58748162212f",
   "metadata": {
    "tags": []
   },
   "outputs": [
    {
     "name": "stdout",
     "output_type": "stream",
     "text": [
      "```json\n",
      "{\n",
      "  \"Employee's Social Security Number\": \"399-60-1133\",\n",
      "  \"Employer Identification Number (EIN)\": \"27-5426623\",\n",
      "  \"Employee's Name\": \"Christopher Gonzales\",\n",
      "  \"Employer's Name\": \"Black LLC Ltd\",\n",
      "  \"Employer's Address\": \"513 Aaron Bypass Apt. 233\\nSherrystad MD 02652-4962\",\n",
      "  \"Control Number\": \"4568872\",\n",
      "  \"Wages, Tips, and Other Compensation (Box 1)\": \"210325.45\",\n",
      "  \"Federal Income Tax Withheld (Box 2)\": \"62172.84\",\n",
      "  \"Social Security Wages (Box 3)\": \"247797.13\",\n",
      "  \"Social Security Tax Withheld (Box 4)\": \"18956.48\",\n",
      "  \"Medicare Wages and Tips (Box 5)\": \"220635.43\",\n",
      "  \"Medicare Tax Withheld (Box 6)\": \"6398.43\",\n",
      "  \"Social Security Tips (Box 7)\": \"247797.13\",\n",
      "  \"Allocated Tips (Box 8)\": \"220635.43\",\n",
      "  \"Dependent Care Benefits (Box 10)\": \"152\",\n",
      "  \"Nonqualified Plan Contributions (Box 11)\": \"249\",\n",
      "  \"State\": \"KS\",\n",
      "  \"Employer's State ID Number\": \"271-31-788\",\n",
      "  \"State Wages, Tips, Etc.\": \"105342.78\",\n",
      "  \"State Income Tax Withheld\": \"8206.88\",\n",
      "  \"Local Wages, Tips, Etc.\": \"156177.25\",\n",
      "  \"Local Income Tax Withheld\": \"41365.55\",\n",
      "  \"Locality Name\": \"Davidson Motorway\",\n",
      "  \"State\": \"MN\",\n",
      "  \"Employer's State ID Number\": \"291-67-383\",\n",
      "  \"State Wages, Tips, Etc.\": \"99029.24\",\n",
      "  \"State Income Tax Withheld\": \"8822.96\",\n",
      "  \"Local Wages, Tips, Etc.\": \"269280.06\",\n",
      "  \"Local Income Tax Withheld\": \"35278.57\",\n",
      "  \"Locality Name\": \"Osborne Squares\"\n",
      "}\n",
      "```\n"
     ]
    }
   ],
   "source": [
    "import vertexai\n",
    "\n",
    "from vertexai.generative_models import GenerativeModel, Part\n",
    "\n",
    "\n",
    "vertexai.init(project=project_id, location=\"us-central1\")\n",
    "\n",
    "model = GenerativeModel(\"gemini-1.5-flash-001\")\n",
    "\n",
    "file_path = \"gs://test-gemini-extraction/W2_XL_input_clean_2895.pdf\"\n",
    "pdf_file = Part.from_uri(file_path, mime_type=\"application/pdf\")\n",
    "contents = [pdf_file, prompt]\n",
    "\n",
    "response = model.generate_content(contents)\n",
    "print(response.text)"
   ]
  },
  {
   "cell_type": "code",
   "execution_count": null,
   "id": "86dfea66-cad7-476d-9072-525279b2339f",
   "metadata": {},
   "outputs": [],
   "source": []
  }
 ],
 "metadata": {
  "environment": {
   "kernel": "conda-base-py",
   "name": "workbench-notebooks.m123",
   "type": "gcloud",
   "uri": "us-docker.pkg.dev/deeplearning-platform-release/gcr.io/workbench-notebooks:m123"
  },
  "kernelspec": {
   "display_name": "Python 3 (ipykernel) (Local)",
   "language": "python",
   "name": "conda-base-py"
  },
  "language_info": {
   "codemirror_mode": {
    "name": "ipython",
    "version": 3
   },
   "file_extension": ".py",
   "mimetype": "text/x-python",
   "name": "python",
   "nbconvert_exporter": "python",
   "pygments_lexer": "ipython3",
   "version": "3.10.14"
  }
 },
 "nbformat": 4,
 "nbformat_minor": 5
}
